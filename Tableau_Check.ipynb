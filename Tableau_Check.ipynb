{
 "cells": [
  {
   "cell_type": "code",
   "execution_count": 1,
   "id": "e7e78be1",
   "metadata": {},
   "outputs": [],
   "source": [
    "import numpy as np\n",
    "import pandas as pd\n",
    "import matplotlib.pyplot as plt\n",
    "import seaborn as sns\n",
    "\n",
    "from tqdm import tqdm\n",
    "from datetime import datetime, timedelta"
   ]
  },
  {
   "cell_type": "code",
   "execution_count": 2,
   "id": "bba1f772",
   "metadata": {},
   "outputs": [],
   "source": [
    "transaction = pd.read_csv('./data/transaction_new.csv')\n",
    "customer = pd.read_csv('./data/customer.csv')\n",
    "\n",
    "\n",
    "#transaction = pd.read_csv('transaction_new.csv')\n",
    "#customer = pd.read_csv('customer.csv')"
   ]
  },
  {
   "cell_type": "code",
   "execution_count": 3,
   "id": "1dc06475",
   "metadata": {},
   "outputs": [],
   "source": [
    "customer = customer.assign(first_join_date=pd.to_datetime(customer['first_join_date']))\n",
    "transaction = transaction.assign(created_at=pd.to_datetime(transaction['created_at']))\n",
    "transaction = transaction.assign(created_at = transaction['created_at'].dt.strftime('%Y-%m-%d'))\n",
    "transaction = transaction.assign(created_at = pd.to_datetime(transaction['created_at']))\n",
    "transaction = transaction.assign(total_price=transaction['total_amount'] - transaction['shipment_fee'])"
   ]
  },
  {
   "cell_type": "code",
   "execution_count": 4,
   "id": "bf18186c",
   "metadata": {},
   "outputs": [],
   "source": [
    "paid_transaction = transaction[transaction.payment_status=='Success']"
   ]
  },
  {
   "cell_type": "code",
   "execution_count": 5,
   "id": "70fe1e3f",
   "metadata": {},
   "outputs": [
    {
     "data": {
      "text/html": [
       "<div>\n",
       "<style scoped>\n",
       "    .dataframe tbody tr th:only-of-type {\n",
       "        vertical-align: middle;\n",
       "    }\n",
       "\n",
       "    .dataframe tbody tr th {\n",
       "        vertical-align: top;\n",
       "    }\n",
       "\n",
       "    .dataframe thead th {\n",
       "        text-align: right;\n",
       "    }\n",
       "</style>\n",
       "<table border=\"1\" class=\"dataframe\">\n",
       "  <thead>\n",
       "    <tr style=\"text-align: right;\">\n",
       "      <th></th>\n",
       "      <th>customer_id</th>\n",
       "      <th>first_join_date</th>\n",
       "    </tr>\n",
       "  </thead>\n",
       "  <tbody>\n",
       "    <tr>\n",
       "      <th>0</th>\n",
       "      <td>74089</td>\n",
       "      <td>2016-06-30</td>\n",
       "    </tr>\n",
       "    <tr>\n",
       "      <th>1</th>\n",
       "      <td>21734</td>\n",
       "      <td>2016-06-30</td>\n",
       "    </tr>\n",
       "    <tr>\n",
       "      <th>2</th>\n",
       "      <td>38119</td>\n",
       "      <td>2016-06-30</td>\n",
       "    </tr>\n",
       "    <tr>\n",
       "      <th>3</th>\n",
       "      <td>73773</td>\n",
       "      <td>2016-06-30</td>\n",
       "    </tr>\n",
       "    <tr>\n",
       "      <th>4</th>\n",
       "      <td>60006</td>\n",
       "      <td>2016-06-30</td>\n",
       "    </tr>\n",
       "    <tr>\n",
       "      <th>...</th>\n",
       "      <td>...</td>\n",
       "      <td>...</td>\n",
       "    </tr>\n",
       "    <tr>\n",
       "      <th>99995</th>\n",
       "      <td>73572</td>\n",
       "      <td>2022-07-31</td>\n",
       "    </tr>\n",
       "    <tr>\n",
       "      <th>99996</th>\n",
       "      <td>66776</td>\n",
       "      <td>2022-07-31</td>\n",
       "    </tr>\n",
       "    <tr>\n",
       "      <th>99997</th>\n",
       "      <td>96644</td>\n",
       "      <td>2022-07-31</td>\n",
       "    </tr>\n",
       "    <tr>\n",
       "      <th>99998</th>\n",
       "      <td>27995</td>\n",
       "      <td>2022-07-31</td>\n",
       "    </tr>\n",
       "    <tr>\n",
       "      <th>99999</th>\n",
       "      <td>33478</td>\n",
       "      <td>2022-07-31</td>\n",
       "    </tr>\n",
       "  </tbody>\n",
       "</table>\n",
       "<p>100000 rows × 2 columns</p>\n",
       "</div>"
      ],
      "text/plain": [
       "       customer_id first_join_date\n",
       "0            74089      2016-06-30\n",
       "1            21734      2016-06-30\n",
       "2            38119      2016-06-30\n",
       "3            73773      2016-06-30\n",
       "4            60006      2016-06-30\n",
       "...            ...             ...\n",
       "99995        73572      2022-07-31\n",
       "99996        66776      2022-07-31\n",
       "99997        96644      2022-07-31\n",
       "99998        27995      2022-07-31\n",
       "99999        33478      2022-07-31\n",
       "\n",
       "[100000 rows x 2 columns]"
      ]
     },
     "execution_count": 5,
     "metadata": {},
     "output_type": "execute_result"
    }
   ],
   "source": [
    "customer_date = customer[['customer_id', 'first_join_date']].sort_values('first_join_date').reset_index(drop=True)\n",
    "customer_date"
   ]
  },
  {
   "cell_type": "markdown",
   "id": "c5b7fe0e",
   "metadata": {},
   "source": [
    "* ARPU\n",
    "    * 매출(주 단위) / 주 단위로 누적(유입) 유저\n",
    "* ARPPU\n",
    "    * 매출(주 단위) / 주 단위로 누적 구매 유저"
   ]
  },
  {
   "cell_type": "code",
   "execution_count": 6,
   "id": "dea3f629",
   "metadata": {},
   "outputs": [
    {
     "data": {
      "text/html": [
       "<div>\n",
       "<style scoped>\n",
       "    .dataframe tbody tr th:only-of-type {\n",
       "        vertical-align: middle;\n",
       "    }\n",
       "\n",
       "    .dataframe tbody tr th {\n",
       "        vertical-align: top;\n",
       "    }\n",
       "\n",
       "    .dataframe thead th {\n",
       "        text-align: right;\n",
       "    }\n",
       "</style>\n",
       "<table border=\"1\" class=\"dataframe\">\n",
       "  <thead>\n",
       "    <tr style=\"text-align: right;\">\n",
       "      <th></th>\n",
       "      <th>created_at</th>\n",
       "      <th>customer_id</th>\n",
       "      <th>total_price</th>\n",
       "    </tr>\n",
       "  </thead>\n",
       "  <tbody>\n",
       "    <tr>\n",
       "      <th>0</th>\n",
       "      <td>2016-06-30</td>\n",
       "      <td>74089</td>\n",
       "      <td>630795</td>\n",
       "    </tr>\n",
       "    <tr>\n",
       "      <th>1</th>\n",
       "      <td>2016-07-01</td>\n",
       "      <td>73773</td>\n",
       "      <td>246670</td>\n",
       "    </tr>\n",
       "    <tr>\n",
       "      <th>2</th>\n",
       "      <td>2016-07-01</td>\n",
       "      <td>16228</td>\n",
       "      <td>318792</td>\n",
       "    </tr>\n",
       "    <tr>\n",
       "      <th>3</th>\n",
       "      <td>2016-07-01</td>\n",
       "      <td>6183</td>\n",
       "      <td>568826</td>\n",
       "    </tr>\n",
       "    <tr>\n",
       "      <th>4</th>\n",
       "      <td>2016-07-02</td>\n",
       "      <td>30771</td>\n",
       "      <td>194897</td>\n",
       "    </tr>\n",
       "    <tr>\n",
       "      <th>...</th>\n",
       "      <td>...</td>\n",
       "      <td>...</td>\n",
       "      <td>...</td>\n",
       "    </tr>\n",
       "    <tr>\n",
       "      <th>815959</th>\n",
       "      <td>2022-07-31</td>\n",
       "      <td>65263</td>\n",
       "      <td>186150</td>\n",
       "    </tr>\n",
       "    <tr>\n",
       "      <th>815960</th>\n",
       "      <td>2022-07-31</td>\n",
       "      <td>76961</td>\n",
       "      <td>158899</td>\n",
       "    </tr>\n",
       "    <tr>\n",
       "      <th>815961</th>\n",
       "      <td>2022-07-31</td>\n",
       "      <td>95196</td>\n",
       "      <td>390873</td>\n",
       "    </tr>\n",
       "    <tr>\n",
       "      <th>815962</th>\n",
       "      <td>2022-07-31</td>\n",
       "      <td>7748</td>\n",
       "      <td>568644</td>\n",
       "    </tr>\n",
       "    <tr>\n",
       "      <th>815963</th>\n",
       "      <td>2022-07-31</td>\n",
       "      <td>89791</td>\n",
       "      <td>806633</td>\n",
       "    </tr>\n",
       "  </tbody>\n",
       "</table>\n",
       "<p>815964 rows × 3 columns</p>\n",
       "</div>"
      ],
      "text/plain": [
       "       created_at  customer_id  total_price\n",
       "0      2016-06-30        74089       630795\n",
       "1      2016-07-01        73773       246670\n",
       "2      2016-07-01        16228       318792\n",
       "3      2016-07-01         6183       568826\n",
       "4      2016-07-02        30771       194897\n",
       "...           ...          ...          ...\n",
       "815959 2022-07-31        65263       186150\n",
       "815960 2022-07-31        76961       158899\n",
       "815961 2022-07-31        95196       390873\n",
       "815962 2022-07-31         7748       568644\n",
       "815963 2022-07-31        89791       806633\n",
       "\n",
       "[815964 rows x 3 columns]"
      ]
     },
     "execution_count": 6,
     "metadata": {},
     "output_type": "execute_result"
    }
   ],
   "source": [
    "transaction_by_session = paid_transaction.groupby('session_id')[['created_at', 'customer_id', 'total_price']].max().sort_values('created_at').reset_index(drop=True)\n",
    "transaction_by_session"
   ]
  },
  {
   "cell_type": "code",
   "execution_count": 35,
   "id": "6b066a66",
   "metadata": {},
   "outputs": [
    {
     "name": "stdout",
     "output_type": "stream",
     "text": [
      "2016-07-10 00:00:00 2016-07-16 00:00:00\n",
      "2016-07-17 00:00:00 2016-07-23 00:00:00\n"
     ]
    }
   ],
   "source": [
    "data_start_date = pd.to_datetime('2016-06-30')\n",
    "previous_start_date = pd.to_datetime('2016-07-10')\n",
    "previous_end_date = previous_start_date + timedelta(days=6)\n",
    "\n",
    "current_start_date = previous_start_date + timedelta(days=7)\n",
    "current_end_date = previous_start_date + timedelta(days=13)\n",
    "\n",
    "print(previous_start_date, previous_end_date)\n",
    "print(current_start_date, current_end_date)"
   ]
  },
  {
   "cell_type": "code",
   "execution_count": 36,
   "id": "b3d8d600",
   "metadata": {},
   "outputs": [],
   "source": [
    "prev_customer = customer_date[(customer_date.first_join_date>=data_start_date)&\n",
    "                              (customer_date.first_join_date<=previous_end_date)]\n",
    "\n",
    "curr_customer = customer_date[(customer_date.first_join_date>=data_start_date)&\n",
    "                              (customer_date.first_join_date<=current_end_date)]"
   ]
  },
  {
   "cell_type": "code",
   "execution_count": 37,
   "id": "e9d7e38b",
   "metadata": {},
   "outputs": [],
   "source": [
    "prev_transaction = transaction_by_session[(transaction_by_session.created_at>=previous_start_date)&\n",
    "                                          (transaction_by_session.created_at<=previous_end_date)]\n",
    "\n",
    "curr_transaction = transaction_by_session[(transaction_by_session.created_at>=current_start_date)&\n",
    "                                          (transaction_by_session.created_at<=current_end_date)]\n",
    "\n",
    "prev_transaction_cum = transaction_by_session[(transaction_by_session.created_at>=data_start_date)&\n",
    "                                              (transaction_by_session.created_at<=previous_end_date)]\n",
    "\n",
    "curr_transaction_cum = transaction_by_session[(transaction_by_session.created_at>=data_start_date)&\n",
    "                                              (transaction_by_session.created_at<=current_end_date)]"
   ]
  },
  {
   "cell_type": "code",
   "execution_count": 38,
   "id": "9a1b20a8",
   "metadata": {},
   "outputs": [
    {
     "data": {
      "text/plain": [
       "created_at\n",
       "2016-07-10     7812393\n",
       "2016-07-11    11884816\n",
       "2016-07-12    14201841\n",
       "2016-07-13    16835266\n",
       "2016-07-14    19140272\n",
       "2016-07-15    20128945\n",
       "2016-07-16    21952100\n",
       "Name: total_price, dtype: int64"
      ]
     },
     "execution_count": 38,
     "metadata": {},
     "output_type": "execute_result"
    }
   ],
   "source": [
    "prev_transaction.groupby('created_at')['total_price'].sum().cumsum()"
   ]
  },
  {
   "cell_type": "code",
   "execution_count": 39,
   "id": "08cc963f",
   "metadata": {},
   "outputs": [
    {
     "data": {
      "text/plain": [
       "first_join_date\n",
       "2016-06-30      6\n",
       "2016-07-01     16\n",
       "2016-07-02     51\n",
       "2016-07-03     87\n",
       "2016-07-04    102\n",
       "2016-07-05    106\n",
       "2016-07-06    116\n",
       "2016-07-07    125\n",
       "2016-07-08    132\n",
       "2016-07-09    215\n",
       "2016-07-10    281\n",
       "2016-07-11    290\n",
       "2016-07-12    298\n",
       "2016-07-13    306\n",
       "2016-07-14    313\n",
       "2016-07-15    320\n",
       "2016-07-16    385\n",
       "Name: customer_id, dtype: int64"
      ]
     },
     "execution_count": 39,
     "metadata": {},
     "output_type": "execute_result"
    }
   ],
   "source": [
    "prev_customer.groupby('first_join_date')['customer_id'].nunique().cumsum()"
   ]
  },
  {
   "cell_type": "code",
   "execution_count": 40,
   "id": "2f972ff5",
   "metadata": {},
   "outputs": [
    {
     "data": {
      "text/plain": [
       "21952100"
      ]
     },
     "execution_count": 40,
     "metadata": {},
     "output_type": "execute_result"
    }
   ],
   "source": [
    "prev_transaction.total_price.sum()"
   ]
  },
  {
   "cell_type": "code",
   "execution_count": 41,
   "id": "631ddb3c",
   "metadata": {},
   "outputs": [
    {
     "data": {
      "text/plain": [
       "385"
      ]
     },
     "execution_count": 41,
     "metadata": {},
     "output_type": "execute_result"
    }
   ],
   "source": [
    "prev_customer.customer_id.nunique()"
   ]
  },
  {
   "cell_type": "code",
   "execution_count": 13,
   "id": "0fd6cd39",
   "metadata": {},
   "outputs": [
    {
     "name": "stdout",
     "output_type": "stream",
     "text": [
      "prev 59571.40838852097\n",
      "curr 59987.321202531646\n"
     ]
    }
   ],
   "source": [
    "# ARPU\n",
    "\n",
    "print('prev', prev_transaction.total_price.sum() / prev_customer.customer_id.nunique())\n",
    "print('curr', curr_transaction.total_price.sum() / curr_customer.customer_id.nunique())"
   ]
  },
  {
   "cell_type": "code",
   "execution_count": 14,
   "id": "0a1e1099",
   "metadata": {},
   "outputs": [
    {
     "name": "stdout",
     "output_type": "stream",
     "text": [
      "prev 186109.29655172414\n",
      "curr 185843.07352941178\n"
     ]
    }
   ],
   "source": [
    "# ARPPU\n",
    "print('prev', prev_transaction.total_price.sum() / prev_transaction_cum.customer_id.nunique())\n",
    "print('curr', curr_transaction.total_price.sum() / curr_transaction_cum.customer_id.nunique())"
   ]
  },
  {
   "cell_type": "markdown",
   "id": "85f422b8",
   "metadata": {},
   "source": [
    "* ARPU\n",
    "    * 매출(월 단위) / 월 단위로 누적(유입) 유저\n",
    "* ARPPU\n",
    "    * 매출(주 단위) / 월 단위로 누적 구매 유저"
   ]
  },
  {
   "cell_type": "code",
   "execution_count": 15,
   "id": "93d96f00",
   "metadata": {},
   "outputs": [
    {
     "data": {
      "text/html": [
       "<div>\n",
       "<style scoped>\n",
       "    .dataframe tbody tr th:only-of-type {\n",
       "        vertical-align: middle;\n",
       "    }\n",
       "\n",
       "    .dataframe tbody tr th {\n",
       "        vertical-align: top;\n",
       "    }\n",
       "\n",
       "    .dataframe thead th {\n",
       "        text-align: right;\n",
       "    }\n",
       "</style>\n",
       "<table border=\"1\" class=\"dataframe\">\n",
       "  <thead>\n",
       "    <tr style=\"text-align: right;\">\n",
       "      <th></th>\n",
       "      <th>customer_id</th>\n",
       "      <th>first_join_date</th>\n",
       "      <th>first_join_month</th>\n",
       "    </tr>\n",
       "  </thead>\n",
       "  <tbody>\n",
       "    <tr>\n",
       "      <th>0</th>\n",
       "      <td>74089</td>\n",
       "      <td>2016-06-30</td>\n",
       "      <td>2016-06</td>\n",
       "    </tr>\n",
       "    <tr>\n",
       "      <th>1</th>\n",
       "      <td>21734</td>\n",
       "      <td>2016-06-30</td>\n",
       "      <td>2016-06</td>\n",
       "    </tr>\n",
       "    <tr>\n",
       "      <th>2</th>\n",
       "      <td>38119</td>\n",
       "      <td>2016-06-30</td>\n",
       "      <td>2016-06</td>\n",
       "    </tr>\n",
       "    <tr>\n",
       "      <th>3</th>\n",
       "      <td>73773</td>\n",
       "      <td>2016-06-30</td>\n",
       "      <td>2016-06</td>\n",
       "    </tr>\n",
       "    <tr>\n",
       "      <th>4</th>\n",
       "      <td>60006</td>\n",
       "      <td>2016-06-30</td>\n",
       "      <td>2016-06</td>\n",
       "    </tr>\n",
       "    <tr>\n",
       "      <th>...</th>\n",
       "      <td>...</td>\n",
       "      <td>...</td>\n",
       "      <td>...</td>\n",
       "    </tr>\n",
       "    <tr>\n",
       "      <th>99995</th>\n",
       "      <td>73572</td>\n",
       "      <td>2022-07-31</td>\n",
       "      <td>2022-07</td>\n",
       "    </tr>\n",
       "    <tr>\n",
       "      <th>99996</th>\n",
       "      <td>66776</td>\n",
       "      <td>2022-07-31</td>\n",
       "      <td>2022-07</td>\n",
       "    </tr>\n",
       "    <tr>\n",
       "      <th>99997</th>\n",
       "      <td>96644</td>\n",
       "      <td>2022-07-31</td>\n",
       "      <td>2022-07</td>\n",
       "    </tr>\n",
       "    <tr>\n",
       "      <th>99998</th>\n",
       "      <td>27995</td>\n",
       "      <td>2022-07-31</td>\n",
       "      <td>2022-07</td>\n",
       "    </tr>\n",
       "    <tr>\n",
       "      <th>99999</th>\n",
       "      <td>33478</td>\n",
       "      <td>2022-07-31</td>\n",
       "      <td>2022-07</td>\n",
       "    </tr>\n",
       "  </tbody>\n",
       "</table>\n",
       "<p>100000 rows × 3 columns</p>\n",
       "</div>"
      ],
      "text/plain": [
       "       customer_id first_join_date first_join_month\n",
       "0            74089      2016-06-30          2016-06\n",
       "1            21734      2016-06-30          2016-06\n",
       "2            38119      2016-06-30          2016-06\n",
       "3            73773      2016-06-30          2016-06\n",
       "4            60006      2016-06-30          2016-06\n",
       "...            ...             ...              ...\n",
       "99995        73572      2022-07-31          2022-07\n",
       "99996        66776      2022-07-31          2022-07\n",
       "99997        96644      2022-07-31          2022-07\n",
       "99998        27995      2022-07-31          2022-07\n",
       "99999        33478      2022-07-31          2022-07\n",
       "\n",
       "[100000 rows x 3 columns]"
      ]
     },
     "metadata": {},
     "output_type": "display_data"
    },
    {
     "data": {
      "text/html": [
       "<div>\n",
       "<style scoped>\n",
       "    .dataframe tbody tr th:only-of-type {\n",
       "        vertical-align: middle;\n",
       "    }\n",
       "\n",
       "    .dataframe tbody tr th {\n",
       "        vertical-align: top;\n",
       "    }\n",
       "\n",
       "    .dataframe thead th {\n",
       "        text-align: right;\n",
       "    }\n",
       "</style>\n",
       "<table border=\"1\" class=\"dataframe\">\n",
       "  <thead>\n",
       "    <tr style=\"text-align: right;\">\n",
       "      <th></th>\n",
       "      <th>created_at</th>\n",
       "      <th>customer_id</th>\n",
       "      <th>total_price</th>\n",
       "      <th>purchase_month</th>\n",
       "    </tr>\n",
       "  </thead>\n",
       "  <tbody>\n",
       "    <tr>\n",
       "      <th>0</th>\n",
       "      <td>2016-06-30</td>\n",
       "      <td>74089</td>\n",
       "      <td>630795</td>\n",
       "      <td>2016-06</td>\n",
       "    </tr>\n",
       "    <tr>\n",
       "      <th>1</th>\n",
       "      <td>2016-07-01</td>\n",
       "      <td>73773</td>\n",
       "      <td>246670</td>\n",
       "      <td>2016-07</td>\n",
       "    </tr>\n",
       "    <tr>\n",
       "      <th>2</th>\n",
       "      <td>2016-07-01</td>\n",
       "      <td>16228</td>\n",
       "      <td>318792</td>\n",
       "      <td>2016-07</td>\n",
       "    </tr>\n",
       "    <tr>\n",
       "      <th>3</th>\n",
       "      <td>2016-07-01</td>\n",
       "      <td>6183</td>\n",
       "      <td>568826</td>\n",
       "      <td>2016-07</td>\n",
       "    </tr>\n",
       "    <tr>\n",
       "      <th>4</th>\n",
       "      <td>2016-07-02</td>\n",
       "      <td>30771</td>\n",
       "      <td>194897</td>\n",
       "      <td>2016-07</td>\n",
       "    </tr>\n",
       "    <tr>\n",
       "      <th>...</th>\n",
       "      <td>...</td>\n",
       "      <td>...</td>\n",
       "      <td>...</td>\n",
       "      <td>...</td>\n",
       "    </tr>\n",
       "    <tr>\n",
       "      <th>815959</th>\n",
       "      <td>2022-07-31</td>\n",
       "      <td>65263</td>\n",
       "      <td>186150</td>\n",
       "      <td>2022-07</td>\n",
       "    </tr>\n",
       "    <tr>\n",
       "      <th>815960</th>\n",
       "      <td>2022-07-31</td>\n",
       "      <td>76961</td>\n",
       "      <td>158899</td>\n",
       "      <td>2022-07</td>\n",
       "    </tr>\n",
       "    <tr>\n",
       "      <th>815961</th>\n",
       "      <td>2022-07-31</td>\n",
       "      <td>95196</td>\n",
       "      <td>390873</td>\n",
       "      <td>2022-07</td>\n",
       "    </tr>\n",
       "    <tr>\n",
       "      <th>815962</th>\n",
       "      <td>2022-07-31</td>\n",
       "      <td>7748</td>\n",
       "      <td>568644</td>\n",
       "      <td>2022-07</td>\n",
       "    </tr>\n",
       "    <tr>\n",
       "      <th>815963</th>\n",
       "      <td>2022-07-31</td>\n",
       "      <td>89791</td>\n",
       "      <td>806633</td>\n",
       "      <td>2022-07</td>\n",
       "    </tr>\n",
       "  </tbody>\n",
       "</table>\n",
       "<p>815964 rows × 4 columns</p>\n",
       "</div>"
      ],
      "text/plain": [
       "       created_at  customer_id  total_price purchase_month\n",
       "0      2016-06-30        74089       630795        2016-06\n",
       "1      2016-07-01        73773       246670        2016-07\n",
       "2      2016-07-01        16228       318792        2016-07\n",
       "3      2016-07-01         6183       568826        2016-07\n",
       "4      2016-07-02        30771       194897        2016-07\n",
       "...           ...          ...          ...            ...\n",
       "815959 2022-07-31        65263       186150        2022-07\n",
       "815960 2022-07-31        76961       158899        2022-07\n",
       "815961 2022-07-31        95196       390873        2022-07\n",
       "815962 2022-07-31         7748       568644        2022-07\n",
       "815963 2022-07-31        89791       806633        2022-07\n",
       "\n",
       "[815964 rows x 4 columns]"
      ]
     },
     "metadata": {},
     "output_type": "display_data"
    }
   ],
   "source": [
    "customer_date = customer_date.assign(first_join_month = customer_date['first_join_date'].dt.strftime('%Y-%m'))\n",
    "transaction_by_session = transaction_by_session.assign(purchase_month = transaction_by_session['created_at'].dt.strftime('%Y-%m'))\n",
    "\n",
    "display(customer_date)\n",
    "display(transaction_by_session)"
   ]
  },
  {
   "cell_type": "code",
   "execution_count": 16,
   "id": "882ea533",
   "metadata": {},
   "outputs": [],
   "source": [
    "FOR_USER = customer_date[customer_date['first_join_month']<='2017-01']\n",
    "FOR_PU = transaction_by_session[transaction_by_session['purchase_month']<='2017-01']\n",
    "FOR_REVENUE = transaction_by_session[transaction_by_session['purchase_month'].str.contains('2017')]"
   ]
  },
  {
   "cell_type": "code",
   "execution_count": 17,
   "id": "50ea9766",
   "metadata": {
    "scrolled": false
   },
   "outputs": [
    {
     "data": {
      "text/html": [
       "<div>\n",
       "<style scoped>\n",
       "    .dataframe tbody tr th:only-of-type {\n",
       "        vertical-align: middle;\n",
       "    }\n",
       "\n",
       "    .dataframe tbody tr th {\n",
       "        vertical-align: top;\n",
       "    }\n",
       "\n",
       "    .dataframe thead th {\n",
       "        text-align: right;\n",
       "    }\n",
       "</style>\n",
       "<table border=\"1\" class=\"dataframe\">\n",
       "  <thead>\n",
       "    <tr style=\"text-align: right;\">\n",
       "      <th></th>\n",
       "      <th>customer_id</th>\n",
       "      <th>first_join_date</th>\n",
       "      <th>first_join_month</th>\n",
       "    </tr>\n",
       "  </thead>\n",
       "  <tbody>\n",
       "    <tr>\n",
       "      <th>0</th>\n",
       "      <td>74089</td>\n",
       "      <td>2016-06-30</td>\n",
       "      <td>2016-06</td>\n",
       "    </tr>\n",
       "    <tr>\n",
       "      <th>1</th>\n",
       "      <td>21734</td>\n",
       "      <td>2016-06-30</td>\n",
       "      <td>2016-06</td>\n",
       "    </tr>\n",
       "    <tr>\n",
       "      <th>2</th>\n",
       "      <td>38119</td>\n",
       "      <td>2016-06-30</td>\n",
       "      <td>2016-06</td>\n",
       "    </tr>\n",
       "    <tr>\n",
       "      <th>3</th>\n",
       "      <td>73773</td>\n",
       "      <td>2016-06-30</td>\n",
       "      <td>2016-06</td>\n",
       "    </tr>\n",
       "    <tr>\n",
       "      <th>4</th>\n",
       "      <td>60006</td>\n",
       "      <td>2016-06-30</td>\n",
       "      <td>2016-06</td>\n",
       "    </tr>\n",
       "    <tr>\n",
       "      <th>...</th>\n",
       "      <td>...</td>\n",
       "      <td>...</td>\n",
       "      <td>...</td>\n",
       "    </tr>\n",
       "    <tr>\n",
       "      <th>5540</th>\n",
       "      <td>87033</td>\n",
       "      <td>2017-01-31</td>\n",
       "      <td>2017-01</td>\n",
       "    </tr>\n",
       "    <tr>\n",
       "      <th>5541</th>\n",
       "      <td>37491</td>\n",
       "      <td>2017-01-31</td>\n",
       "      <td>2017-01</td>\n",
       "    </tr>\n",
       "    <tr>\n",
       "      <th>5542</th>\n",
       "      <td>3127</td>\n",
       "      <td>2017-01-31</td>\n",
       "      <td>2017-01</td>\n",
       "    </tr>\n",
       "    <tr>\n",
       "      <th>5543</th>\n",
       "      <td>87539</td>\n",
       "      <td>2017-01-31</td>\n",
       "      <td>2017-01</td>\n",
       "    </tr>\n",
       "    <tr>\n",
       "      <th>5544</th>\n",
       "      <td>95253</td>\n",
       "      <td>2017-01-31</td>\n",
       "      <td>2017-01</td>\n",
       "    </tr>\n",
       "  </tbody>\n",
       "</table>\n",
       "<p>5545 rows × 3 columns</p>\n",
       "</div>"
      ],
      "text/plain": [
       "      customer_id first_join_date first_join_month\n",
       "0           74089      2016-06-30          2016-06\n",
       "1           21734      2016-06-30          2016-06\n",
       "2           38119      2016-06-30          2016-06\n",
       "3           73773      2016-06-30          2016-06\n",
       "4           60006      2016-06-30          2016-06\n",
       "...           ...             ...              ...\n",
       "5540        87033      2017-01-31          2017-01\n",
       "5541        37491      2017-01-31          2017-01\n",
       "5542         3127      2017-01-31          2017-01\n",
       "5543        87539      2017-01-31          2017-01\n",
       "5544        95253      2017-01-31          2017-01\n",
       "\n",
       "[5545 rows x 3 columns]"
      ]
     },
     "execution_count": 17,
     "metadata": {},
     "output_type": "execute_result"
    }
   ],
   "source": [
    "FOR_USER"
   ]
  },
  {
   "cell_type": "code",
   "execution_count": 18,
   "id": "da1407d3",
   "metadata": {},
   "outputs": [
    {
     "data": {
      "text/plain": [
       "5545"
      ]
     },
     "execution_count": 18,
     "metadata": {},
     "output_type": "execute_result"
    }
   ],
   "source": [
    "USER = FOR_USER.customer_id.nunique()\n",
    "USER"
   ]
  },
  {
   "cell_type": "code",
   "execution_count": 19,
   "id": "ec9ad561",
   "metadata": {},
   "outputs": [
    {
     "data": {
      "text/html": [
       "<div>\n",
       "<style scoped>\n",
       "    .dataframe tbody tr th:only-of-type {\n",
       "        vertical-align: middle;\n",
       "    }\n",
       "\n",
       "    .dataframe tbody tr th {\n",
       "        vertical-align: top;\n",
       "    }\n",
       "\n",
       "    .dataframe thead th {\n",
       "        text-align: right;\n",
       "    }\n",
       "</style>\n",
       "<table border=\"1\" class=\"dataframe\">\n",
       "  <thead>\n",
       "    <tr style=\"text-align: right;\">\n",
       "      <th></th>\n",
       "      <th>created_at</th>\n",
       "      <th>customer_id</th>\n",
       "      <th>total_price</th>\n",
       "      <th>purchase_month</th>\n",
       "    </tr>\n",
       "  </thead>\n",
       "  <tbody>\n",
       "    <tr>\n",
       "      <th>0</th>\n",
       "      <td>2016-06-30</td>\n",
       "      <td>74089</td>\n",
       "      <td>630795</td>\n",
       "      <td>2016-06</td>\n",
       "    </tr>\n",
       "    <tr>\n",
       "      <th>1</th>\n",
       "      <td>2016-07-01</td>\n",
       "      <td>73773</td>\n",
       "      <td>246670</td>\n",
       "      <td>2016-07</td>\n",
       "    </tr>\n",
       "    <tr>\n",
       "      <th>2</th>\n",
       "      <td>2016-07-01</td>\n",
       "      <td>16228</td>\n",
       "      <td>318792</td>\n",
       "      <td>2016-07</td>\n",
       "    </tr>\n",
       "    <tr>\n",
       "      <th>3</th>\n",
       "      <td>2016-07-01</td>\n",
       "      <td>6183</td>\n",
       "      <td>568826</td>\n",
       "      <td>2016-07</td>\n",
       "    </tr>\n",
       "    <tr>\n",
       "      <th>4</th>\n",
       "      <td>2016-07-02</td>\n",
       "      <td>30771</td>\n",
       "      <td>194897</td>\n",
       "      <td>2016-07</td>\n",
       "    </tr>\n",
       "    <tr>\n",
       "      <th>...</th>\n",
       "      <td>...</td>\n",
       "      <td>...</td>\n",
       "      <td>...</td>\n",
       "      <td>...</td>\n",
       "    </tr>\n",
       "    <tr>\n",
       "      <th>6085</th>\n",
       "      <td>2017-01-31</td>\n",
       "      <td>65610</td>\n",
       "      <td>247810</td>\n",
       "      <td>2017-01</td>\n",
       "    </tr>\n",
       "    <tr>\n",
       "      <th>6086</th>\n",
       "      <td>2017-01-31</td>\n",
       "      <td>23886</td>\n",
       "      <td>561484</td>\n",
       "      <td>2017-01</td>\n",
       "    </tr>\n",
       "    <tr>\n",
       "      <th>6087</th>\n",
       "      <td>2017-01-31</td>\n",
       "      <td>48647</td>\n",
       "      <td>126812</td>\n",
       "      <td>2017-01</td>\n",
       "    </tr>\n",
       "    <tr>\n",
       "      <th>6088</th>\n",
       "      <td>2017-01-31</td>\n",
       "      <td>80637</td>\n",
       "      <td>1465472</td>\n",
       "      <td>2017-01</td>\n",
       "    </tr>\n",
       "    <tr>\n",
       "      <th>6089</th>\n",
       "      <td>2017-01-31</td>\n",
       "      <td>72282</td>\n",
       "      <td>191361</td>\n",
       "      <td>2017-01</td>\n",
       "    </tr>\n",
       "  </tbody>\n",
       "</table>\n",
       "<p>6090 rows × 4 columns</p>\n",
       "</div>"
      ],
      "text/plain": [
       "     created_at  customer_id  total_price purchase_month\n",
       "0    2016-06-30        74089       630795        2016-06\n",
       "1    2016-07-01        73773       246670        2016-07\n",
       "2    2016-07-01        16228       318792        2016-07\n",
       "3    2016-07-01         6183       568826        2016-07\n",
       "4    2016-07-02        30771       194897        2016-07\n",
       "...         ...          ...          ...            ...\n",
       "6085 2017-01-31        65610       247810        2017-01\n",
       "6086 2017-01-31        23886       561484        2017-01\n",
       "6087 2017-01-31        48647       126812        2017-01\n",
       "6088 2017-01-31        80637      1465472        2017-01\n",
       "6089 2017-01-31        72282       191361        2017-01\n",
       "\n",
       "[6090 rows x 4 columns]"
      ]
     },
     "execution_count": 19,
     "metadata": {},
     "output_type": "execute_result"
    }
   ],
   "source": [
    "FOR_PU"
   ]
  },
  {
   "cell_type": "code",
   "execution_count": 20,
   "id": "ce4441b0",
   "metadata": {},
   "outputs": [
    {
     "data": {
      "text/plain": [
       "2905"
      ]
     },
     "execution_count": 20,
     "metadata": {},
     "output_type": "execute_result"
    }
   ],
   "source": [
    "PU = FOR_PU.customer_id.nunique()\n",
    "PU"
   ]
  },
  {
   "cell_type": "code",
   "execution_count": 21,
   "id": "2134563e",
   "metadata": {},
   "outputs": [
    {
     "data": {
      "text/html": [
       "<div>\n",
       "<style scoped>\n",
       "    .dataframe tbody tr th:only-of-type {\n",
       "        vertical-align: middle;\n",
       "    }\n",
       "\n",
       "    .dataframe tbody tr th {\n",
       "        vertical-align: top;\n",
       "    }\n",
       "\n",
       "    .dataframe thead th {\n",
       "        text-align: right;\n",
       "    }\n",
       "</style>\n",
       "<table border=\"1\" class=\"dataframe\">\n",
       "  <thead>\n",
       "    <tr style=\"text-align: right;\">\n",
       "      <th></th>\n",
       "      <th>purchase_month</th>\n",
       "      <th>total_price</th>\n",
       "    </tr>\n",
       "  </thead>\n",
       "  <tbody>\n",
       "    <tr>\n",
       "      <th>0</th>\n",
       "      <td>2017-01</td>\n",
       "      <td>746139699</td>\n",
       "    </tr>\n",
       "    <tr>\n",
       "      <th>1</th>\n",
       "      <td>2017-02</td>\n",
       "      <td>789214663</td>\n",
       "    </tr>\n",
       "    <tr>\n",
       "      <th>2</th>\n",
       "      <td>2017-03</td>\n",
       "      <td>1040794092</td>\n",
       "    </tr>\n",
       "    <tr>\n",
       "      <th>3</th>\n",
       "      <td>2017-04</td>\n",
       "      <td>1060049088</td>\n",
       "    </tr>\n",
       "    <tr>\n",
       "      <th>4</th>\n",
       "      <td>2017-05</td>\n",
       "      <td>1272721448</td>\n",
       "    </tr>\n",
       "    <tr>\n",
       "      <th>5</th>\n",
       "      <td>2017-06</td>\n",
       "      <td>1193512723</td>\n",
       "    </tr>\n",
       "    <tr>\n",
       "      <th>6</th>\n",
       "      <td>2017-07</td>\n",
       "      <td>1735658236</td>\n",
       "    </tr>\n",
       "    <tr>\n",
       "      <th>7</th>\n",
       "      <td>2017-08</td>\n",
       "      <td>1671634960</td>\n",
       "    </tr>\n",
       "    <tr>\n",
       "      <th>8</th>\n",
       "      <td>2017-09</td>\n",
       "      <td>1836364475</td>\n",
       "    </tr>\n",
       "    <tr>\n",
       "      <th>9</th>\n",
       "      <td>2017-10</td>\n",
       "      <td>2044204910</td>\n",
       "    </tr>\n",
       "    <tr>\n",
       "      <th>10</th>\n",
       "      <td>2017-11</td>\n",
       "      <td>2094556099</td>\n",
       "    </tr>\n",
       "    <tr>\n",
       "      <th>11</th>\n",
       "      <td>2017-12</td>\n",
       "      <td>2183356933</td>\n",
       "    </tr>\n",
       "  </tbody>\n",
       "</table>\n",
       "</div>"
      ],
      "text/plain": [
       "   purchase_month  total_price\n",
       "0         2017-01    746139699\n",
       "1         2017-02    789214663\n",
       "2         2017-03   1040794092\n",
       "3         2017-04   1060049088\n",
       "4         2017-05   1272721448\n",
       "5         2017-06   1193512723\n",
       "6         2017-07   1735658236\n",
       "7         2017-08   1671634960\n",
       "8         2017-09   1836364475\n",
       "9         2017-10   2044204910\n",
       "10        2017-11   2094556099\n",
       "11        2017-12   2183356933"
      ]
     },
     "execution_count": 21,
     "metadata": {},
     "output_type": "execute_result"
    }
   ],
   "source": [
    "REVENUE = FOR_REVENUE.groupby('purchase_month')['total_price'].sum().to_frame().reset_index()\n",
    "REVENUE"
   ]
  },
  {
   "cell_type": "code",
   "execution_count": 22,
   "id": "8cf47cd1",
   "metadata": {},
   "outputs": [
    {
     "data": {
      "text/plain": [
       "0    256846.71222\n",
       "Name: total_price, dtype: float64"
      ]
     },
     "execution_count": 22,
     "metadata": {},
     "output_type": "execute_result"
    }
   ],
   "source": [
    "# ARPPU\n",
    "\n",
    "REVENUE[REVENUE['purchase_month']=='2017-01']['total_price'] / PU"
   ]
  },
  {
   "cell_type": "code",
   "execution_count": 23,
   "id": "c4a38ed5",
   "metadata": {},
   "outputs": [
    {
     "data": {
      "text/plain": [
       "270722.0093135564"
      ]
     },
     "execution_count": 23,
     "metadata": {},
     "output_type": "execute_result"
    }
   ],
   "source": [
    "784823105 / 2899"
   ]
  },
  {
   "cell_type": "code",
   "execution_count": 24,
   "id": "aa4f7277",
   "metadata": {},
   "outputs": [
    {
     "data": {
      "text/plain": [
       "0    134560.811362\n",
       "Name: total_price, dtype: float64"
      ]
     },
     "execution_count": 24,
     "metadata": {},
     "output_type": "execute_result"
    }
   ],
   "source": [
    "# ARPU\n",
    "\n",
    "REVENUE[REVENUE['purchase_month']=='2017-01']['total_price'] / USER"
   ]
  },
  {
   "cell_type": "code",
   "execution_count": 25,
   "id": "3fadee2f",
   "metadata": {},
   "outputs": [
    {
     "data": {
      "text/plain": [
       "141537.07935076646"
      ]
     },
     "execution_count": 25,
     "metadata": {},
     "output_type": "execute_result"
    }
   ],
   "source": [
    "784823105 / 5545"
   ]
  }
 ],
 "metadata": {
  "kernelspec": {
   "display_name": "Python 3",
   "language": "python",
   "name": "python3"
  },
  "language_info": {
   "codemirror_mode": {
    "name": "ipython",
    "version": 3
   },
   "file_extension": ".py",
   "mimetype": "text/x-python",
   "name": "python",
   "nbconvert_exporter": "python",
   "pygments_lexer": "ipython3",
   "version": "3.8.5"
  },
  "toc": {
   "base_numbering": 1,
   "nav_menu": {},
   "number_sections": true,
   "sideBar": true,
   "skip_h1_title": false,
   "title_cell": "Table of Contents",
   "title_sidebar": "Contents",
   "toc_cell": false,
   "toc_position": {},
   "toc_section_display": true,
   "toc_window_display": false
  }
 },
 "nbformat": 4,
 "nbformat_minor": 5
}
